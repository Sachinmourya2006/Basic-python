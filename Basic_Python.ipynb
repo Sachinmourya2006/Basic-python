{
  "nbformat": 4,
  "nbformat_minor": 0,
  "metadata": {
    "colab": {
      "provenance": []
    },
    "kernelspec": {
      "name": "python3",
      "display_name": "Python 3"
    },
    "language_info": {
      "name": "python"
    }
  },
  "cells": [
    {
      "cell_type": "markdown",
      "source": [
        "# Python Basics Question"
      ],
      "metadata": {
        "id": "k20IYGHDKx9-"
      }
    },
    {
      "cell_type": "markdown",
      "source": [
        "1. What is Python, and why is it popular?\n",
        "   -  Python is a high-level, easy-to learn programming language used for web developement, data science, A.I and more.\n",
        "-  Why is it so popular?\n",
        "   -  easy to understand for biggener's.\n",
        "   -  Powerful libraries - for data ai web etc.\n",
        "   -  can be easily run in any platform. like., :- Windows, Mac, Linux etc.\n",
        "   -  A big community - lots of support.\n",
        "2. What is an interpreter in Python?\n",
        "   -  An interpreter in Python is a program that reads and executes Python code line by line. Unlike a compiler, which translates the entire source code into machine code before running it, a Python interpreter translates and runs code on the fly, one statement at a time.\n",
        "3. What are pre-defined keywords in Python?\n",
        "   -  Pre-defined keywords in Python are special reserved words that have specific meanings and uses in the language. These keywords are part of Python’s syntax and cannot be used as variable names, function names, or identifiers. Examples include if, else, while, for, def, class, and import. They help Python understand the structure and flow of your code.\n",
        "4. Can keywords be used as variable names?\n",
        "   -  No, keywords cannot be used as variable names in Python. Since keywords have special meanings in the language (like if, while, def), using them as variable names will cause a syntax error.\n",
        "5. What is mutability in Python?\n",
        "   - Mutability in Python means whether you can change the value of something after creating it.\n",
        "If something is mutable, like a list, you can change it later (add, remove items).\n",
        "If it’s immutable, like a string or number, you can’t change it — if you try, Python makes a new one instead.\n",
        "6. Why are lists mutable, but tuples are immutable?\n",
        "   -  Lists are mutable because they’re made to store and change data easily — we can add, remove, or change items inside them. Python allows this because lists are often used when data needs to be updated.\n",
        "Tuples are immutable because they’re made to protect data. Once a tuple is created, it stays the same. This makes them faster and safer for fixed data.\n",
        "7. What is the difference between “==” and “is” operators in Python?\n",
        "   -  In Python:\n",
        "== checks if two values are equal (it compares the actual data inside).\n",
        "Example: 5 == 5 is True.\n",
        "is checks if two variables point to the same object in memory.\n",
        "Example: a is b is True only if a and b are the exact same object.\n",
        "So, == checks value, is checks identity.\n",
        "8. What are logical operators in Python?\n",
        "   -  Logical operators in Python are used to combine multiple conditions or expressions. They return either True or False based on the logic. There are three main logical operators:\n",
        "and – Returns True if both conditions are true. Example: 5 > 2 and 3 < 4 → True\n",
        "\n",
        "or – Returns True if at least one condition is true. Example: 5 > 10 or 3 < 4 → True\n",
        "\n",
        "not – Reverses the result. Example: not True → False\n",
        "\n",
        "They are used mostly in if statements and decision-making.\n",
        "They are used mostly in if statements and decision-making.\n",
        "9. What is type casting in Python?\n",
        "   -  Type casting in Python means changing a value from one data type to another, like turning a number into a string or a string into a number. It helps when you're working with different kinds of data and need them to match.\n",
        "There are two types:\n",
        "\n",
        "Implicit casting, which Python does on its own during calculations.\n",
        "\n",
        "Explicit casting, where you manually change the type using functions like int(), float(), str(), or bool().\n",
        "\n",
        "Type casting is important for avoiding errors and making sure your data behaves the way you want in a program.\n",
        "10. What is the difference between implicit and explicit type casting?\n",
        "   -  mplicit and explicit type casting are two ways to change data types in Python:\n",
        "   -  Implicit and explicit type casting are two ways to change data types in Python:\n",
        "   -  Implicit type casting is done automatically by Python. It happens when Python safely converts one type to another during operations (like converting an int to a float).\n",
        "   -  Explicit type casting is done manually by the programmer using functions like int(), float(), or str().\n",
        "Hance, implicit = Python’s choice, explicit = your choice.\n",
        "11. What is the purpose of conditional statements in Python?\n",
        "   -  The purpose of conditional statements in Python is to allow your program to make decisions and take different actions based on specific conditions.\n",
        "   \n",
        "They help your code respond to different situations instead of just running straight from top to bottom. For example, if a user enters a certain input, the program can decide what to do next—like showing a message, running a calculation, or stopping the program.\n",
        "\n",
        "Python uses keywords like if, elif (else if), and else to create these conditions. These statements check whether a condition is true or false and then execute the related block of code.\n",
        "\n",
        "Without conditional statements, all programs would behave the same way every time, no matter the input or situation. With them, your programs become dynamic, smart, and interactive—just like real-world decision-making.\n",
        "\n",
        "\n",
        "12. How does the elif statement work?\n",
        "  -  The elif statement in Python means \"else if\". It is used when you want to check multiple conditions one after another.\n",
        "\n",
        "Here’s how it works:\n",
        "\n",
        "First, Python checks the if condition.\n",
        "\n",
        "If if is true, it runs that block and skips everything else.\n",
        "\n",
        "If if is false, it checks the elif condition.\n",
        "\n",
        "If elif is true, it runs that block.\n",
        "\n",
        "If none of the if or elif conditions are true, then the else block (if present) runs.\n",
        "\n",
        "So, elif helps you add more choices to your decision-making in code.\n",
        "\n",
        "\n",
        "13. What is the difference between for and while loops?\n",
        "  -  The difference between for and while loops in Python is in how they repeat code:\n",
        "A for loop is used when you know in advance how many times you want to run the loop. It goes through a sequence (like a list or range) one item at a time.\n",
        "\n",
        "A while loop is used when you don’t know exactly how many times to repeat something. It keeps running as long as a condition is true.\n",
        "\n",
        "In short: for = repeat a set number of times while = repeat until a condition becomes false.\n",
        "14. Describe a scenario where a while loop is more suitable than a for loop?\n",
        "  -  A while loop is more suitable when you don’t know beforehand how many times the loop should run — you just want it to keep going until a condition changes.\n",
        "\n",
        "Example scenario: You’re asking a user to enter the correct password. You don’t know how many tries they’ll need, so you keep asking until they enter the right one. In this case, a while loop is perfect because it runs as long as the entered password is wrong, and stops only when the condition becomes false (i.e., the correct password is entered).\n",
        "\n",
        "\n",
        "\n"
      ],
      "metadata": {
        "id": "ZgogrKZ0TPLg"
      }
    },
    {
      "cell_type": "markdown",
      "source": [
        "# Python Practical Question"
      ],
      "metadata": {
        "id": "D6jEgR0CQW6U"
      }
    },
    {
      "cell_type": "markdown",
      "source": [
        "1. Write a Python program to print \"Hello, World!\""
      ],
      "metadata": {
        "id": "IWjc61nfeQVY"
      }
    },
    {
      "cell_type": "code",
      "source": [
        "print('Hello World')"
      ],
      "metadata": {
        "colab": {
          "base_uri": "https://localhost:8080/"
        },
        "id": "NZrZTwAERIQK",
        "outputId": "ad74293a-9203-4765-dddb-843f7da1ca4b"
      },
      "execution_count": null,
      "outputs": [
        {
          "output_type": "stream",
          "name": "stdout",
          "text": [
            "Hello World\n"
          ]
        }
      ]
    },
    {
      "cell_type": "markdown",
      "source": [
        "2. Write a Python program that displays your name and age."
      ],
      "metadata": {
        "id": "jSl5Od0Med4E"
      }
    },
    {
      "cell_type": "code",
      "source": [
        "name= 'sachin'\n",
        "age= '18'"
      ],
      "metadata": {
        "id": "v3GlVtjmR73n"
      },
      "execution_count": null,
      "outputs": []
    },
    {
      "cell_type": "code",
      "source": [
        "name"
      ],
      "metadata": {
        "colab": {
          "base_uri": "https://localhost:8080/",
          "height": 35
        },
        "id": "hBlU97vYSP25",
        "outputId": "6f4b4211-128b-49f1-cb7b-0e020dd05a60"
      },
      "execution_count": null,
      "outputs": [
        {
          "output_type": "execute_result",
          "data": {
            "text/plain": [
              "'sachin'"
            ],
            "application/vnd.google.colaboratory.intrinsic+json": {
              "type": "string"
            }
          },
          "metadata": {},
          "execution_count": 5
        }
      ]
    },
    {
      "cell_type": "code",
      "source": [
        "age"
      ],
      "metadata": {
        "colab": {
          "base_uri": "https://localhost:8080/",
          "height": 35
        },
        "id": "wjof3HlWSWF5",
        "outputId": "bc3dee4b-1cb5-44cd-f76b-b4becb49237f"
      },
      "execution_count": null,
      "outputs": [
        {
          "output_type": "execute_result",
          "data": {
            "text/plain": [
              "'18'"
            ],
            "application/vnd.google.colaboratory.intrinsic+json": {
              "type": "string"
            }
          },
          "metadata": {},
          "execution_count": 6
        }
      ]
    },
    {
      "cell_type": "markdown",
      "source": [
        "3. Write code to print all the pre-defined keywords in Python using the keyword library."
      ],
      "metadata": {
        "id": "jpY6LHurekic"
      }
    },
    {
      "cell_type": "code",
      "source": [
        "print(\"keywords in python are\")\n",
        "import keyword\n",
        "print(keyword.kwlist)"
      ],
      "metadata": {
        "colab": {
          "base_uri": "https://localhost:8080/"
        },
        "id": "bAGJiqBiTDv_",
        "outputId": "ac460009-b5f4-4440-92cd-c665e45c03bd"
      },
      "execution_count": null,
      "outputs": [
        {
          "output_type": "stream",
          "name": "stdout",
          "text": [
            "keywords in python are\n",
            "['False', 'None', 'True', 'and', 'as', 'assert', 'async', 'await', 'break', 'class', 'continue', 'def', 'del', 'elif', 'else', 'except', 'finally', 'for', 'from', 'global', 'if', 'import', 'in', 'is', 'lambda', 'nonlocal', 'not', 'or', 'pass', 'raise', 'return', 'try', 'while', 'with', 'yield']\n"
          ]
        }
      ]
    },
    {
      "cell_type": "markdown",
      "source": [
        "4. Write a program that checks if a given word is a Python keyword."
      ],
      "metadata": {
        "id": "EMn3KJsUeoxC"
      }
    },
    {
      "cell_type": "code",
      "source": [
        "import keyword\n",
        "\n",
        "word = input(\"Enter a word: \")\n",
        "\n",
        "if keyword.iskeyword(word):\n",
        "    print(f\"'{word}' is a Python keyword.\")\n",
        "else:\n",
        "    print(f\"'{word}' is not a Python keyword.\")\n"
      ],
      "metadata": {
        "colab": {
          "base_uri": "https://localhost:8080/"
        },
        "id": "oDXLFkBrTlRM",
        "outputId": "81b8a0b9-f13d-4acb-e786-8c2fa8f0b2cd"
      },
      "execution_count": null,
      "outputs": [
        {
          "output_type": "stream",
          "name": "stdout",
          "text": [
            "Enter a word: True\n",
            "'True' is a Python keyword.\n"
          ]
        }
      ]
    },
    {
      "cell_type": "markdown",
      "source": [
        "5. Create a list and tuple in Python, and demonstrate how attempting to change an element works differently for each.\n"
      ],
      "metadata": {
        "id": "nDUgbrjMe3cB"
      }
    },
    {
      "cell_type": "markdown",
      "source": [
        "# List:-"
      ],
      "metadata": {
        "id": "7yF9LTWEUQL0"
      }
    },
    {
      "cell_type": "code",
      "source": [
        "my_list = [10, 20, 30]\n",
        "my_list[1] = 99"
      ],
      "metadata": {
        "id": "tFQSlzWKUXpF"
      },
      "execution_count": null,
      "outputs": []
    },
    {
      "cell_type": "markdown",
      "source": [
        "# Tuple"
      ],
      "metadata": {
        "id": "GYq62URDU4Om"
      }
    },
    {
      "cell_type": "code",
      "source": [
        "my_tuple = (10, 20, 30)\n",
        "my_tuple[1] =99"
      ],
      "metadata": {
        "colab": {
          "base_uri": "https://localhost:8080/",
          "height": 159
        },
        "id": "hAIIk4TdUzUs",
        "outputId": "6667f95c-f2fd-447c-b6d6-48672babe2a8"
      },
      "execution_count": null,
      "outputs": [
        {
          "output_type": "error",
          "ename": "TypeError",
          "evalue": "'tuple' object does not support item assignment",
          "traceback": [
            "\u001b[0;31m---------------------------------------------------------------------------\u001b[0m",
            "\u001b[0;31mTypeError\u001b[0m                                 Traceback (most recent call last)",
            "\u001b[0;32m/tmp/ipython-input-15-3197164785.py\u001b[0m in \u001b[0;36m<cell line: 0>\u001b[0;34m()\u001b[0m\n\u001b[1;32m      1\u001b[0m \u001b[0mmy_tuple\u001b[0m \u001b[0;34m=\u001b[0m \u001b[0;34m(\u001b[0m\u001b[0;36m10\u001b[0m\u001b[0;34m,\u001b[0m \u001b[0;36m20\u001b[0m\u001b[0;34m,\u001b[0m \u001b[0;36m30\u001b[0m\u001b[0;34m)\u001b[0m\u001b[0;34m\u001b[0m\u001b[0;34m\u001b[0m\u001b[0m\n\u001b[0;32m----> 2\u001b[0;31m \u001b[0mmy_tuple\u001b[0m\u001b[0;34m[\u001b[0m\u001b[0;36m1\u001b[0m\u001b[0;34m]\u001b[0m \u001b[0;34m=\u001b[0m\u001b[0;36m99\u001b[0m\u001b[0;34m\u001b[0m\u001b[0;34m\u001b[0m\u001b[0m\n\u001b[0m",
            "\u001b[0;31mTypeError\u001b[0m: 'tuple' object does not support item assignment"
          ]
        }
      ]
    },
    {
      "cell_type": "markdown",
      "source": [
        "# Explanation:\n",
        "Lists are mutable, so you can change, add, or remove items.\n",
        "\n",
        "Tuples are immutable, so trying to change any item will result in a TypeError.\n",
        "\n",
        "If you run the code above, the list will update successfully, but the tuple will give an error like:"
      ],
      "metadata": {
        "id": "SJfXo7P0X40o"
      }
    },
    {
      "cell_type": "markdown",
      "source": [],
      "metadata": {
        "id": "Mhc-i0q6X8qZ"
      }
    },
    {
      "cell_type": "code",
      "source": [
        "my_tuple = (10, 20, 30)\n",
        "my_tuple[1] = 99\n"
      ],
      "metadata": {
        "colab": {
          "base_uri": "https://localhost:8080/",
          "height": 159
        },
        "id": "a3E0qmbsXayp",
        "outputId": "a74d0fbe-d8a7-4517-e88b-c2fdabcebdb2"
      },
      "execution_count": null,
      "outputs": [
        {
          "output_type": "error",
          "ename": "TypeError",
          "evalue": "'tuple' object does not support item assignment",
          "traceback": [
            "\u001b[0;31m---------------------------------------------------------------------------\u001b[0m",
            "\u001b[0;31mTypeError\u001b[0m                                 Traceback (most recent call last)",
            "\u001b[0;32m/tmp/ipython-input-17-1161011012.py\u001b[0m in \u001b[0;36m<cell line: 0>\u001b[0;34m()\u001b[0m\n\u001b[1;32m      1\u001b[0m \u001b[0mmy_tuple\u001b[0m \u001b[0;34m=\u001b[0m \u001b[0;34m(\u001b[0m\u001b[0;36m10\u001b[0m\u001b[0;34m,\u001b[0m \u001b[0;36m20\u001b[0m\u001b[0;34m,\u001b[0m \u001b[0;36m30\u001b[0m\u001b[0;34m)\u001b[0m\u001b[0;34m\u001b[0m\u001b[0;34m\u001b[0m\u001b[0m\n\u001b[0;32m----> 2\u001b[0;31m \u001b[0mmy_tuple\u001b[0m\u001b[0;34m[\u001b[0m\u001b[0;36m1\u001b[0m\u001b[0;34m]\u001b[0m \u001b[0;34m=\u001b[0m \u001b[0;36m99\u001b[0m\u001b[0;34m\u001b[0m\u001b[0;34m\u001b[0m\u001b[0m\n\u001b[0m",
            "\u001b[0;31mTypeError\u001b[0m: 'tuple' object does not support item assignment"
          ]
        }
      ]
    },
    {
      "cell_type": "markdown",
      "source": [
        "6. Write a function to demonstrate the behavior of mutable and immutable arguments.\n"
      ],
      "metadata": {
        "id": "MmR1avmAfFoS"
      }
    },
    {
      "cell_type": "markdown",
      "source": [
        "-  In Python, some data types like list are mutable, which means their values can change inside a function. But others like int or string are immutable, so their values don’t change even if we try to modify them in a function.\n",
        "\n",
        "Here’s a small example to show the difference:\n",
        "\n"
      ],
      "metadata": {
        "id": "RZbZl6dfY6hH"
      }
    },
    {
      "cell_type": "code",
      "source": [
        "def test(a, b):\n",
        "    a += 5\n",
        "    b.append(10)"
      ],
      "metadata": {
        "id": "wqKXRTGMYzkM"
      },
      "execution_count": null,
      "outputs": []
    },
    {
      "cell_type": "markdown",
      "source": [
        "-  If a is an integer like 10, it won’t change outside the function. But if b is a list like [1, 2, 3], it will become [1, 2, 3, 10] after the function.\n",
        "\n",
        "This shows that integers are immutable (they stay the same), and lists are mutable (they get modified inside the function).\n",
        "\n"
      ],
      "metadata": {
        "id": "ECdSLvi3ZIqJ"
      }
    },
    {
      "cell_type": "markdown",
      "source": [
        "7. Write a program that performs basic arithmetic operations on two user-input numbers."
      ],
      "metadata": {
        "id": "coa5CJDwZp_h"
      }
    },
    {
      "cell_type": "markdown",
      "source": [
        "Here is a Python program that takes two numbers from the user and then does addition, subtraction, multiplication, and division:\n"
      ],
      "metadata": {
        "id": "OiXy2WtBZyx4"
      }
    },
    {
      "cell_type": "code",
      "source": [
        "a = float(input(\"Enter first number: \"))\n",
        "b = float(input(\"Enter second number: \"))\n",
        "\n",
        "print(\"Addition is:\", a + b)\n",
        "print(\"Subtraction is:\", a - b)\n",
        "print(\"Multiplication is:\", a * b)\n",
        "\n",
        "if b != 0:\n",
        "    print(\"Division is:\", a / b)\n",
        "else:\n",
        "    print(\"Cannot divide by zero\")\n"
      ],
      "metadata": {
        "colab": {
          "base_uri": "https://localhost:8080/"
        },
        "id": "rgfKg6HJZHOe",
        "outputId": "967c0a52-2789-474e-e539-360ce84f819f"
      },
      "execution_count": null,
      "outputs": [
        {
          "output_type": "stream",
          "name": "stdout",
          "text": [
            "Enter first number: 7\n",
            "Enter second number: 2\n",
            "Addition is: 9.0\n",
            "Subtraction is: 5.0\n",
            "Multiplication is: 14.0\n",
            "Division is: 3.5\n"
          ]
        }
      ]
    },
    {
      "cell_type": "markdown",
      "source": [
        "# Explanation:"
      ],
      "metadata": {
        "id": "8bEa6X_Jag6G"
      }
    },
    {
      "cell_type": "markdown",
      "source": [
        "I took two numbers from the user.\n",
        "\n",
        "Then I printed the result of all four operations.\n",
        "\n",
        "For division, I added a check to make sure we don't divide by zero"
      ],
      "metadata": {
        "id": "NElWP5PYasRz"
      }
    },
    {
      "cell_type": "markdown",
      "source": [
        "8. Write a program to demonstrate the use of logical operators."
      ],
      "metadata": {
        "id": "jbejSLN7a2EG"
      }
    },
    {
      "cell_type": "code",
      "source": [
        "a = 10\n",
        "b = 5\n",
        "c = 15\n",
        "\n",
        "# using and operator\n",
        "print(\"a > b and a < c:\", a > b and a < c)\n",
        "\n",
        "# using or operator\n",
        "print(\"a < b or a < c:\", a < b or a < c)\n",
        "\n",
        "# using not operator\n",
        "print(\"not(a > b):\", not(a > b))\n"
      ],
      "metadata": {
        "colab": {
          "base_uri": "https://localhost:8080/"
        },
        "id": "tKY4hztxaCKt",
        "outputId": "0d43a951-562b-4b2a-c7c8-a819b8ab84c7"
      },
      "execution_count": null,
      "outputs": [
        {
          "output_type": "stream",
          "name": "stdout",
          "text": [
            "a > b and a < c: True\n",
            "a < b or a < c: True\n",
            "not(a > b): False\n"
          ]
        }
      ]
    },
    {
      "cell_type": "markdown",
      "source": [
        "# Because\n",
        "and gives True only if both conditions are true.\n",
        "\n",
        "or gives True if at least one condition is true.\n",
        "\n",
        "not reverses the result — if it's True, it becomes False."
      ],
      "metadata": {
        "id": "6lmNtggCbHHf"
      }
    },
    {
      "cell_type": "markdown",
      "source": [
        "9. Write a Python program to convert user input from string to integer, float, and boolean types."
      ],
      "metadata": {
        "id": "nHNBhveqbeey"
      }
    },
    {
      "cell_type": "code",
      "source": [
        "# Taking input from the user\n",
        "user_input = input(\"Enter something: \")\n",
        "\n",
        "# Converting to integer\n",
        "try:\n",
        "    int_value = int(user_input)\n",
        "    print(\"Integer value:\", int_value)\n",
        "except:\n",
        "    print(\"Cannot convert to integer.\")\n",
        "\n",
        "# Converting to float\n",
        "try:\n",
        "    float_value = float(user_input)\n",
        "    print(\"Float value:\", float_value)\n",
        "except:\n",
        "    print(\"Cannot convert to float.\")\n",
        "\n",
        "# Converting to boolean\n",
        "bool_value = bool(user_input)\n",
        "print(\"Boolean value:\", bool_value)\n"
      ],
      "metadata": {
        "colab": {
          "base_uri": "https://localhost:8080/"
        },
        "id": "nfRtdswZa-CD",
        "outputId": "eb50e14b-9e9b-4e48-c398-c69986c296ad"
      },
      "execution_count": null,
      "outputs": [
        {
          "output_type": "stream",
          "name": "stdout",
          "text": [
            "Enter something: 26\n",
            "Integer value: 26\n",
            "Float value: 26.0\n",
            "Boolean value: True\n"
          ]
        }
      ]
    },
    {
      "cell_type": "markdown",
      "source": [
        "10. Write code to demonstrate type casting with list elements."
      ],
      "metadata": {
        "id": "JzJAqX3Nb9Rm"
      }
    },
    {
      "cell_type": "code",
      "source": [
        "my_list = [\"10\", \"20\", \"30\"]\n",
        "\n",
        "int_list = [int(x) for x in my_list]\n",
        "float_list = [float(x) for x in int_list]\n",
        "\n",
        "print(\"Original list:\", my_list)\n",
        "print(\"As integers:\", int_list)\n",
        "print(\"As floats:\", float_list)\n"
      ],
      "metadata": {
        "colab": {
          "base_uri": "https://localhost:8080/"
        },
        "id": "1sZDSRoHbwF6",
        "outputId": "858a8f04-b85b-4655-f6cc-8fab3f865548"
      },
      "execution_count": null,
      "outputs": [
        {
          "output_type": "stream",
          "name": "stdout",
          "text": [
            "Original list: ['10', '20', '30']\n",
            "As integers: [10, 20, 30]\n",
            "As floats: [10.0, 20.0, 30.0]\n"
          ]
        }
      ]
    },
    {
      "cell_type": "markdown",
      "source": [
        "11. Write a program that checks if a number is positive, negative, or zero."
      ],
      "metadata": {
        "id": "MH4i3pJxcVJp"
      }
    },
    {
      "cell_type": "code",
      "source": [
        "num = float(input(\"Enter a number: \"))\n",
        "\n",
        "if num > 0:\n",
        "    print(\"The number is positive.\")\n",
        "elif num < 0:\n",
        "    print(\"The number is negative.\")\n",
        "else:\n",
        "    print(\"The number is zero.\")\n"
      ],
      "metadata": {
        "colab": {
          "base_uri": "https://localhost:8080/"
        },
        "id": "B39S4dmwcKaZ",
        "outputId": "30e0526b-008a-48ef-abba-36306a65b938"
      },
      "execution_count": null,
      "outputs": [
        {
          "output_type": "stream",
          "name": "stdout",
          "text": [
            "Enter a number: 7\n",
            "The number is positive.\n"
          ]
        }
      ]
    },
    {
      "cell_type": "markdown",
      "source": [
        "12. Write a for loop to print numbers from 1 to 10."
      ],
      "metadata": {
        "id": "hsz1FwVickDD"
      }
    },
    {
      "cell_type": "code",
      "source": [
        "for i in range(1, 11):\n",
        "    print(i)\n"
      ],
      "metadata": {
        "colab": {
          "base_uri": "https://localhost:8080/"
        },
        "id": "9XJ2NeEkcb5Z",
        "outputId": "c76a0cd0-c3e9-401f-bbc2-63e3f6d75c29"
      },
      "execution_count": null,
      "outputs": [
        {
          "output_type": "stream",
          "name": "stdout",
          "text": [
            "1\n",
            "2\n",
            "3\n",
            "4\n",
            "5\n",
            "6\n",
            "7\n",
            "8\n",
            "9\n",
            "10\n"
          ]
        }
      ]
    },
    {
      "cell_type": "markdown",
      "source": [
        "13. Write a Python program to find the sum of all even numbers between 1 and 50.\n"
      ],
      "metadata": {
        "id": "K0oDLth5dC_R"
      }
    },
    {
      "cell_type": "code",
      "source": [
        "sum = 0\n",
        "\n",
        "for i in range(1, 51):\n",
        "    if i % 2 == 0:\n",
        "        sum = sum + i\n",
        "\n",
        "print(\"Sum of even numbers from 1 to 50 is:\", sum)\n"
      ],
      "metadata": {
        "colab": {
          "base_uri": "https://localhost:8080/"
        },
        "id": "8xaaOPJVc_uJ",
        "outputId": "9fbe34e5-fc08-4588-e1e5-5eb321d8eeb3"
      },
      "execution_count": null,
      "outputs": [
        {
          "output_type": "stream",
          "name": "stdout",
          "text": [
            "Sum of even numbers from 1 to 50 is: 650\n"
          ]
        }
      ]
    },
    {
      "cell_type": "markdown",
      "source": [
        "14. Write a program to reverse a string using a while loop."
      ],
      "metadata": {
        "id": "Zfivs-tddPXK"
      }
    },
    {
      "cell_type": "code",
      "source": [
        "text = input(\"Enter a word: \")\n",
        "i = -1\n",
        "reverse = \"\"\n",
        "\n",
        "while i >= -len(text):\n",
        "    reverse = reverse + text[i]\n",
        "    i = i - 1\n",
        "\n",
        "print(\"Reversed word is:\", reverse)\n"
      ],
      "metadata": {
        "colab": {
          "base_uri": "https://localhost:8080/"
        },
        "id": "Mz5wWbkDdNRJ",
        "outputId": "2b6156ea-5449-4c3f-d64d-2fe77f81ae03"
      },
      "execution_count": null,
      "outputs": [
        {
          "output_type": "stream",
          "name": "stdout",
          "text": [
            "Enter a word: sachin\n",
            "Reversed word is: nihcas\n"
          ]
        }
      ]
    },
    {
      "cell_type": "markdown",
      "source": [
        "15. Write a Python program to calculate the factorial of a number provided by the user using a while loop.\n"
      ],
      "metadata": {
        "id": "Skp3WoeMdxH9"
      }
    },
    {
      "cell_type": "code",
      "source": [
        "num = int(input(\"Enter a number: \"))\n",
        "fact = 1\n",
        "i = 1\n",
        "\n",
        "while i <= num:\n",
        "    fact = fact * i\n",
        "    i = i + 1\n",
        "\n",
        "print(\"Factorial is:\", fact)\n"
      ],
      "metadata": {
        "colab": {
          "base_uri": "https://localhost:8080/"
        },
        "id": "kkz4ifUydevo",
        "outputId": "5fa3b6a7-f548-426a-a3b3-1008f5f0c2aa"
      },
      "execution_count": null,
      "outputs": [
        {
          "output_type": "stream",
          "name": "stdout",
          "text": [
            "Enter a number: 22\n",
            "Factorial is: 1124000727777607680000\n"
          ]
        }
      ]
    },
    {
      "cell_type": "markdown",
      "source": [
        "# Thank you sir i love these classes"
      ],
      "metadata": {
        "id": "IltSXvgreCAq"
      }
    },
    {
      "cell_type": "code",
      "source": [],
      "metadata": {
        "id": "WTIykd1Kd5Jf"
      },
      "execution_count": null,
      "outputs": []
    }
  ]
}